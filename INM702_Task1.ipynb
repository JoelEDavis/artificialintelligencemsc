{
 "cells": [
  {
   "cell_type": "code",
   "execution_count": 1,
   "id": "7b1d1f03-5780-4aa5-8b21-96d6853b36dd",
   "metadata": {},
   "outputs": [
    {
     "name": "stdout",
     "output_type": "stream",
     "text": [
      "[[8 5 6 0 4 2 2 2 3 5]\n",
      " [7 0 1 0 4 5 7 0 1 2]\n",
      " [8 5 1 3 7 3 6 0 1 6]\n",
      " [6 3 7 3 6 2 2 0 7 6]\n",
      " [4 1 0 2 1 1 7 8 1 8]\n",
      " [1 0 5 0 0 0 0 6 0 2]\n",
      " [6 0 2 5 5 6 5 2 3 4]\n",
      " [3 3 1 8 6 5 1 3 2 1]\n",
      " [8 7 4 5 2 1 4 6 4 7]\n",
      " [1 5 4 6 5 1 3 0 8 7]]\n"
     ]
    }
   ],
   "source": [
    "import numpy as np\n",
    "import pandas as pd\n",
    "import matplotlib as plt\n",
    "\n",
    "width, height = 10, 10 #Set width and height of the grid\n",
    "grid = np.random.randint(0,9,(width,height)) #Initialise grid of width x height with random integers from 0-9\n",
    "start = (0,0) #Set start position as (0,0)\n",
    "\n",
    "print(grid)"
   ]
  },
  {
   "cell_type": "code",
   "execution_count": null,
   "id": "58cb3907-03a5-4211-b66a-a347791bf62f",
   "metadata": {},
   "outputs": [],
   "source": []
  }
 ],
 "metadata": {
  "kernelspec": {
   "display_name": "Python 3",
   "language": "python",
   "name": "python3"
  },
  "language_info": {
   "codemirror_mode": {
    "name": "ipython",
    "version": 3
   },
   "file_extension": ".py",
   "mimetype": "text/x-python",
   "name": "python",
   "nbconvert_exporter": "python",
   "pygments_lexer": "ipython3",
   "version": "3.8.8"
  }
 },
 "nbformat": 4,
 "nbformat_minor": 5
}
