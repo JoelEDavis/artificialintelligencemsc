{
 "cells": [
  {
   "cell_type": "code",
   "execution_count": 47,
   "id": "7b1d1f03-5780-4aa5-8b21-96d6853b36dd",
   "metadata": {},
   "outputs": [
    {
     "name": "stdout",
     "output_type": "stream",
     "text": [
      "[[4 5 0 6 5]\n",
      " [8 6 6 6 6]\n",
      " [1 5 7 1 1]\n",
      " [5 2 0 3 1]\n",
      " [0 2 6 4 8]]\n"
     ]
    },
    {
     "data": {
      "image/png": "[encoded data removed]",
      "text/plain": [
       "<Figure size 432x288 with 1 Axes>"
      ]
     },
     "metadata": {
      "needs_background": "light"
     },
     "output_type": "display_data"
    }
   ],
   "source": [
    "import numpy as np\n",
    "import pandas as pd\n",
    "import matplotlib.pyplot as plt\n",
    "\n",
    "np.random.seed(2021) #Set seed to allow for replicable results\n",
    "\n",
    "width, height = 5, 5 #Set width and height of the grid\n",
    "min_val, max_val = 0, 9 #Set minimum and maximum values of each cell\n",
    "grid = np.random.randint(min_val,max_val,(width,height)) #Initialise grid of width x height with random integers from min-max\n",
    "start = (0,0) #Set start position as (0,0)\n",
    "\n",
    "print(grid)\n",
    "\n",
    "#Set colour to white if value < 10, path will change value to 'inf' (10000), where the value is set to green\n",
    "\n",
    "plt.imshow(grid, interpolation = 'none')\n",
    "plt.show()"
   ]
  },
  {
   "cell_type": "code",
   "execution_count": 44,
   "id": "58cb3907-03a5-4211-b66a-a347791bf62f",
   "metadata": {},
   "outputs": [],
   "source": [
    "#class game1 #Time spent on cell is number on the cell"
   ]
  },
  {
   "cell_type": "code",
   "execution_count": null,
   "id": "741d48d5-3bb9-497c-b97f-eb6cf144e9a4",
   "metadata": {},
   "outputs": [],
   "source": [
    "#class game2 #Time spent on cell is absolute difference between number on cell and value on previous cell"
   ]
  }
 ],
 "metadata": {
  "kernelspec": {
   "display_name": "Python 3",
   "language": "python",
   "name": "python3"
  },
  "language_info": {
   "codemirror_mode": {
    "name": "ipython",
    "version": 3
   },
   "file_extension": ".py",
   "mimetype": "text/x-python",
   "name": "python",
   "nbconvert_exporter": "python",
   "pygments_lexer": "ipython3",
   "version": "3.8.8"
  }
 },
 "nbformat": 4,
 "nbformat_minor": 5
}
