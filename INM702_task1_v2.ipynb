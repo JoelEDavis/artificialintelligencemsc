{
 "cells": [
  {
   "cell_type": "code",
   "execution_count": 83,
   "id": "c3075b5f-5398-4621-a6e0-b588dd246de9",
   "metadata": {},
   "outputs": [],
   "source": [
    "import numpy as np\n",
    "import pandas as pd\n",
    "import matplotlib.pyplot as plt\n",
    "\n",
    "np.random.seed(2021) #Set seed to allow for replicable results"
   ]
  },
  {
   "cell_type": "code",
   "execution_count": 84,
   "id": "5a23fca8-ff0f-40c0-8ea0-c410a4fe3550",
   "metadata": {},
   "outputs": [],
   "source": [
    "#Method to draw grid, setting height, width and the min/max value of each cell\n",
    "#Grid will be a NxM array\n",
    "\n",
    "def createGrid(grid_width, grid_height, min_val, max_val):\n",
    "    grid = np.random.randint(min_val,max_val, grid_width*grid_height) #Set each cell to a random value between min_val and max_val\n",
    "    grid = grid.reshape(grid_width, grid_height) #Re-order axes to make rows x columns\n",
    "    return grid"
   ]
  },
  {
   "cell_type": "code",
   "execution_count": 85,
   "id": "96256a96-30f8-48cd-8815-0b920ec0a343",
   "metadata": {},
   "outputs": [
    {
     "name": "stdout",
     "output_type": "stream",
     "text": [
      "[[85 57  0 94 86 44 62 91 29 21]\n",
      " [93 24 12 70 70 33  7  1 97 26]\n",
      " [66 48 99 63 49 16 50 54 52 93]\n",
      " [ 5 49 38 14 71 85 70 41 21 25]\n",
      " [10 36 19 57 82 90 15 40 76 53]\n",
      " [11 19 33 78 17 89 50  7 27 63]\n",
      " [51  9 25 71 84 27 75 27 19 31]\n",
      " [50 89 27 18 53 32 20 95 87  3]\n",
      " [97 20 18 70 38 90 53 62 93 26]\n",
      " [47 91 60  7 93 33 89 37 95 48]]\n"
     ]
    }
   ],
   "source": [
    "#User input for width, height and min/max values of cells\n",
    "grid = createGrid(grid_width = 10, grid_height = 10, min_val = 0, max_val = 100)\n",
    "#Create a copy so original grid remains unedited\n",
    "game_grid = grid.copy()\n",
    "print(game_grid)"
   ]
  },
  {
   "cell_type": "code",
   "execution_count": 86,
   "id": "8c13ee22-a51d-444f-83da-9c4ca3d5e716",
   "metadata": {},
   "outputs": [],
   "source": [
    "## Game mode 1 - Using our heuristic method with smallest absolute values between next cells as path selection"
   ]
  },
  {
   "cell_type": "code",
   "execution_count": 87,
   "id": "6048d49d-22ce-4cac-8b05-979f30044ea6",
   "metadata": {},
   "outputs": [],
   "source": [
    "def heuristic_absolute(grid, start_position=(0,0), end_position=(game_grid.shape[0]-1, game_grid.shape[1]-1)):\n",
    "        \"\"\"\n",
    "        Args:\n",
    "            start_position - tuple of type int defining starting coordinates\n",
    "            end_position - tuple of type int defining ending coordinates\n",
    "            \n",
    "        Returns:\n",
    "            optimal_path - list of tuples of type int, defining the path of grid coordinates yielding shortest path\n",
    "            list_vals - list of ints, defining values corresponding to coordinates in optimal_path\n",
    "        \"\"\"\n",
    "        \n",
    "        # initialising variables\n",
    "        optimal_path = []\n",
    "        optimal_vals = []\n",
    "\n",
    "        current = start_position\n",
    "        travelled = 999999 # setting this to be a higher number than any in grid to mark as travelled\n",
    "        \n",
    "        # define grid edges, where b_edge = bottom edge and r_edge = right edge (note do not need to define l_edge, t_edge as these are 0 and 0)\n",
    "        b_edge = grid.shape[0]-1\n",
    "        r_edge = grid.shape[1]-1\n",
    "        \n",
    "        # define valid positional movements within grid, determined by starting position before each move\n",
    "        while (current != end_position):\n",
    "            if (current[0] < b_edge) and (current[1] < r_edge):\n",
    "                up = (current[0] - 1, current[1])\n",
    "                down = (current[0] + 1, current[1])\n",
    "                left = (current[0], current[1] - 1)\n",
    "                right = (current[0], current[1] + 1)\n",
    "                \n",
    "            elif current[0] >= b_edge:\n",
    "                up = (current[0] - 1, current[1])\n",
    "                down = (current[0], current[1])\n",
    "                left = (current[0], current[1] - 1)\n",
    "                right = (current[0], current[1] + 1)\n",
    "                \n",
    "            elif current[1] >= r_edge:\n",
    "                up = (current[0] - 1, current[1])\n",
    "                down = (current[0] + 1, current[1])\n",
    "                left = (current[0], current[1] - 1)\n",
    "                right = (current[0], current[1])\n",
    "                \n",
    "            value = { # dictionary for value of each move\n",
    "                'Current' : grid[current],\n",
    "                'Up' : grid[up],\n",
    "                'Down' : grid[down],\n",
    "                'Left' : grid[left],\n",
    "                'Right' : grid[right]\n",
    "            }\n",
    "            \n",
    "            # decision process for absolute value, arbitrarily prioritises going down over right if they are the same\n",
    "            if value['Down'] <= value['Right']:\n",
    "                next_position = down\n",
    "            else:\n",
    "                next_position = right\n",
    "\n",
    "            # update path and increment variables\n",
    "            optimal_path.append(next_position)\n",
    "            optimal_vals.append(value['Current'])\n",
    "\n",
    "            grid[current] = travelled\n",
    "            current = next_position\n",
    "\n",
    "        grid[tuple(end_position)] = travelled\n",
    "\n",
    "        while travelled in optimal_vals:\n",
    "            optimal_vals.remove(travelled) # remove values from travelled to make accurate sum (no double-counting)\n",
    "\n",
    "        return optimal_path, optimal_vals"
   ]
  },
  {
   "cell_type": "code",
   "execution_count": 88,
   "id": "e75e2f9a-12b6-403a-8de3-3313877ad3f3",
   "metadata": {},
   "outputs": [],
   "source": [
    "grid = game_grid.copy() # create copy of original grid"
   ]
  },
  {
   "cell_type": "code",
   "execution_count": 89,
   "id": "886fe5b1-aaaf-4fb9-b465-213f31c893b8",
   "metadata": {},
   "outputs": [],
   "source": [
    "path, vals = heuristic_absolute(game_grid)"
   ]
  },
  {
   "cell_type": "code",
   "execution_count": 90,
   "id": "8ef61576-2b6d-442e-a962-4a7bee6b9b6d",
   "metadata": {},
   "outputs": [],
   "source": [
    "# Visualise in a heatmap:\n",
    "def heuristic_absolute_visualise(game_grid, optimal_path, optimal_vals):\n",
    "    fig = plt.figure()\n",
    "    sub = fig.add_subplot(122)\n",
    "    sub.set_title(\"Heuristic Method (Absolute Value)\")\n",
    "    sub.imshow(game_grid, cmap='Greens_r')\n",
    "    plt.show()\n",
    "    totalpathtime = sum(optimal_vals)\n",
    "    print(\"Optimal Path Time is: \" + str(totalpathtime))"
   ]
  },
  {
   "cell_type": "code",
   "execution_count": 91,
   "id": "a02786cd-4e08-438a-83a5-097aedbc2ceb",
   "metadata": {},
   "outputs": [
    {
     "data": {
      "image/png": "[encoded data removed]",
      "text/plain": [
       "<Figure size 432x288 with 1 Axes>"
      ]
     },
     "metadata": {
      "needs_background": "light"
     },
     "output_type": "display_data"
    },
    {
     "name": "stdout",
     "output_type": "stream",
     "text": [
      "Optimal Path Time is: 863\n"
     ]
    }
   ],
   "source": [
    "heuristic_absolute_visualise(game_grid, path, vals)"
   ]
  },
  {
   "cell_type": "code",
   "execution_count": 92,
   "id": "568f216d-1001-4aa0-bb06-096c4508944e",
   "metadata": {},
   "outputs": [],
   "source": [
    "## Game mode 2 - Using our heuristic method with smallest interval values between cells as path selection"
   ]
  },
  {
   "cell_type": "code",
   "execution_count": 93,
   "id": "6afcb0be-8432-4cd6-8357-1fc84d646b91",
   "metadata": {},
   "outputs": [],
   "source": [
    "# Using 'hi' as suffix to variables to indicate 'heuristic interval' method\n",
    "game_grid_hi = grid.copy()"
   ]
  },
  {
   "cell_type": "code",
   "execution_count": 94,
   "id": "1c181aab-e523-4f11-aa96-325e54f3e635",
   "metadata": {},
   "outputs": [],
   "source": [
    "def heuristic_interval(grid, start_position=(0,0), end_position=(game_grid_hi.shape[0]-1, game_grid_hi.shape[1]-1)):\n",
    "        \"\"\"\n",
    "        Args:\n",
    "            start_position - tuple of type int defining starting coordinates\n",
    "            end_position - tuple of type int defining ending coordinates\n",
    "            \n",
    "        Returns:\n",
    "            optimal_path - list of tuples of type int, defining the path of grid coordinates yielding shortest path\n",
    "            list_vals - list of ints, defining values corresponding to coordinates in optimal_path\n",
    "        \"\"\"\n",
    "        \n",
    "        # initialising variables\n",
    "        optimal_path_hi = []\n",
    "        optimal_vals_hi = []\n",
    "\n",
    "        current = start_position\n",
    "        travelled = 999999 # setting this to be a higher number than any in grid to mark as travelled\n",
    "        \n",
    "        # define grid edges (note do not need to define l_edge, t_edge as these are 0 and 0)\n",
    "        b_edge = grid.shape[0]-1\n",
    "        r_edge = grid.shape[1]-1\n",
    "        \n",
    "        # same process as previous method for positional movement selection\n",
    "        while (current != end_position):\n",
    "            if (current[0] < b_edge) and (current[1] < r_edge):\n",
    "                up = (current[0] - 1, current[1])\n",
    "                down = (current[0] + 1, current[1])\n",
    "                left = (current[0], current[1] - 1)\n",
    "                right = (current[0], current[1] + 1)\n",
    "                \n",
    "            elif current[0] >= b_edge:\n",
    "                up = (current[0] - 1, current[1])\n",
    "                down = (current[0], current[1])\n",
    "                left = (current[0], current[1] - 1)\n",
    "                right = (current[0], current[1] + 1)\n",
    "                \n",
    "            elif current[1] >= r_edge:\n",
    "                up = (current[0] - 1, current[1])\n",
    "                down = (current[0] + 1, current[1])\n",
    "                left = (current[0], current[1] - 1)\n",
    "                right = (current[0], current[1])\n",
    "                \n",
    "            value = { # dictionary for value of each move\n",
    "                'Current' : grid[current],\n",
    "                'Up' : grid[up],\n",
    "                'Down' : grid[down],\n",
    "                'Left' : grid[left],\n",
    "                'Right' : grid[right]\n",
    "            }\n",
    "            \n",
    "            interval_value = { # dictionary for interval value of each move, found from absolute value between current and next step\n",
    "                'Current' : grid[current],\n",
    "                'Up' : abs(grid[up]-grid[current]),\n",
    "                'Down' : abs(grid[down]-grid[current]),\n",
    "                'Left' : abs(grid[left]-grid[current]),\n",
    "                'Right' : abs(grid[right]-grid[current])\n",
    "            }\n",
    "            \n",
    "            # decision process for interval value, arbitrarily prioritises going down over right if they are the same\n",
    "            if interval_value['Down'] <= interval_value['Right'] and current[0] < b_edge: \n",
    "                next_position = down\n",
    "                optimal_vals_hi.append(interval_value['Down'])\n",
    "            elif current[1] < r_edge:\n",
    "                next_position = right\n",
    "                optimal_vals_hi.append(interval_value['Right'])\n",
    "            else: next_position = down and optimal_vals_hi.append(interval_value['Down'])\n",
    "                \n",
    "\n",
    "            # update path and increment variables\n",
    "            optimal_path_hi.append(next_position)\n",
    "\n",
    "            grid[current] = travelled\n",
    "            current = next_position\n",
    "\n",
    "        grid[tuple(end_position)] = travelled\n",
    "\n",
    "        while travelled in optimal_vals_hi:\n",
    "            optimal_vals_hi.remove(travelled)\n",
    "\n",
    "        return optimal_path_hi, optimal_vals_hi"
   ]
  },
  {
   "cell_type": "code",
   "execution_count": 95,
   "id": "d683d161-5612-4b16-b1d2-4608c8df57d5",
   "metadata": {},
   "outputs": [],
   "source": [
    "path_hi, vals_hi = heuristic_interval(game_grid_hi)"
   ]
  },
  {
   "cell_type": "code",
   "execution_count": 96,
   "id": "0abe438c-8268-4939-baa8-0647af2b9ef4",
   "metadata": {},
   "outputs": [],
   "source": [
    "# Visualise in a heatmap:\n",
    "def heuristic_interval_visualise(game_grid_hi, optimal_path_hi, optimal_vals_hi):\n",
    "    fig = plt.figure()\n",
    "    sub = fig.add_subplot(122)\n",
    "    sub.set_title(\"Heuristic Method (Interval Value)\")\n",
    "    sub.imshow(game_grid_hi, cmap='Greens_r')\n",
    "    plt.show()\n",
    "    totalpathtime_hi = sum(optimal_vals_hi)\n",
    "    print(\"Optimal Path Time is: \" + str(totalpathtime_hi))"
   ]
  },
  {
   "cell_type": "code",
   "execution_count": 97,
   "id": "9e6747aa-8988-488f-9249-63434b7bb9e2",
   "metadata": {},
   "outputs": [
    {
     "data": {
      "image/png": "[encoded data removed]",
      "text/plain": [
       "<Figure size 432x288 with 1 Axes>"
      ]
     },
     "metadata": {
      "needs_background": "light"
     },
     "output_type": "display_data"
    },
    {
     "name": "stdout",
     "output_type": "stream",
     "text": [
      "Optimal Path Time is: 571\n"
     ]
    }
   ],
   "source": [
    "heuristic_interval_visualise(game_grid_hi, path_hi, vals_hi)"
   ]
  },
  {
   "cell_type": "code",
   "execution_count": 98,
   "id": "d598c889-dc79-476b-8b18-67c40ccf4048",
   "metadata": {},
   "outputs": [],
   "source": [
    "game_grid_dijk = grid.copy()"
   ]
  },
  {
   "cell_type": "code",
   "execution_count": 99,
   "id": "31dc243c-1443-4220-9e27-c796c211037d",
   "metadata": {},
   "outputs": [],
   "source": [
    "## Unsuccessful grid conversion to dictionary method, was intended to be used in Dijkstra's algorithm where each grid location is a node and values (absolute or interval) represent the weights.\n",
    "\n",
    "# def grid_convert(): # convert grid co-ordinates to dictionary\n",
    "        \n",
    "#         # initialising variables\n",
    "#         grid_coords = []\n",
    "#         for i in range(grid.shape[0]): # run loop over all cell co-ordinates to create list of all co-ordinates\n",
    "#             for j in range(grid.shape[1]):\n",
    "#                 grid_coords.append([i,j])\n",
    "                \n",
    "#         tuplelist = []\n",
    "#         for x in grid_coords: # convert grid co-ordinate list to tuple\n",
    "#             tuplelist.append(tuple(x))\n",
    "#         reference_list = list(range(len(tuplelist)))\n",
    "#         return tuplelist, reference_list\n",
    "    \n",
    "#         optimal_vals_dijk = []\n",
    "\n",
    "#         current = start_position\n",
    "#         travelled = 999999 # setting this to be a higher number than any in grid to mark as travelled\n",
    "            \n",
    "#         reference_list = list(range(len(tuplelist)))\n",
    "#         reference_dict = dict(zip(tuplelist,reference_list))\n",
    "        \n",
    "#         dicts = {} # initialise empty dictionary\n",
    "#         for i,j in tuplelist:\n",
    "#             current = [i,j]\n",
    "#             if grid.shape[0] == 1: # if 1-dimensional grid\n",
    "#                 dicts[i,j] = {(0,j): 5}\n",
    "#                 print(dicts) \n",
    "        \n",
    "#         # define grid edges (note do not need to define l_edge, t_edge as these are 0 and 0)\n",
    "#         b_edge = grid.shape[0]-1\n",
    "#         r_edge = grid.shape[1]-1\n",
    "        \n",
    "#         # same process as previous method for positional movement selection\n",
    "#         while (current != end_position):\n",
    "#             if (current[0] < b_edge) and (current[1] < r_edge):\n",
    "#                 up = (current[0] - 1, current[1])\n",
    "#                 down = (current[0] + 1, current[1])\n",
    "#                 left = (current[0], current[1] - 1)\n",
    "#                 right = (current[0], current[1] + 1)\n",
    "                \n",
    "#             elif current[0] >= b_edge:\n",
    "#                 up = (current[0] - 1, current[1])\n",
    "#                 down = (current[0], current[1])\n",
    "#                 left = (current[0], current[1] - 1)\n",
    "#                 right = (current[0], current[1] + 1)\n",
    "                \n",
    "#             elif current[1] >= r_edge:\n",
    "#                 up = (current[0] - 1, current[1])\n",
    "#                 down = (current[0] + 1, current[1])\n",
    "#                 left = (current[0], current[1] - 1)\n",
    "#                 right = (current[0], current[1])\n",
    "                \n",
    "#             value = { # dictionary for value of each move\n",
    "#                 'Current' : grid[current],\n",
    "#                 'Up' : grid[up],\n",
    "#                 'Down' : grid[down],\n",
    "#                 'Left' : grid[left],\n",
    "#                 'Right' : grid[right]\n",
    "#             }\n",
    "            \n",
    "#             interval_value = { # dictionary for interval value of each move, found from absolute value between current and next step\n",
    "#                 'Current' : grid[current],\n",
    "#                 'Up' : abs(grid[up]-grid[current]),\n",
    "#                 'Down' : abs(grid[down]-grid[current]),\n",
    "#                 'Left' : abs(grid[left]-grid[current]),\n",
    "#                 'Right' : abs(grid[right]-grid[current])\n",
    "#             }\n",
    "            \n",
    "#             dicts[i,j] = {up: interval_value['Up'], down: interval_value['Down'], left: interval_value['Left'], right: interval_value['right']}\n",
    "            \n",
    "#             return dicts"
   ]
  },
  {
   "cell_type": "code",
   "execution_count": 100,
   "id": "f484415c-a348-458a-ae50-053972aed86a",
   "metadata": {},
   "outputs": [],
   "source": [
    "# Code from https://bradfieldcs.com/algos/graphs/dijkstras-algorithm/ to show how Dijkstra's works, was intending to convert the grid to a dictionary as shown in cell above and pass to algorithm\n",
    "# below, replacing 'example_graph' with our grid, but could not complete.\n",
    "\n",
    "# import heapq # library containing priority queue\n",
    "\n",
    "# def calculate_distances(grid, starting_vertex):\n",
    "#     distances = {vertex: float('infinity') for vertex in grid}\n",
    "#     distances[starting_vertex] = 0\n",
    "\n",
    "#     pq = [(0, starting_vertex)] # initialise queue\n",
    "#     while len(pq) > 0:\n",
    "#         current_distance, current_vertex = heapq.heappop(pq) # pop and return smallest items from queue\n",
    "\n",
    "#         # nodes can get added to the priority queue multiple times, only processing a vertex the first time we remove it from the priority queue.\n",
    "#         if current_distance > distances[current_vertex]:\n",
    "#             continue\n",
    "\n",
    "#         for neighbor, weight in grid[current_vertex].items():\n",
    "#             distance = current_distance + weight\n",
    "\n",
    "#             # Only consider this new path if it's cheaper than any path we've\n",
    "#             # already found.\n",
    "#             if distance < distances[neighbor]:\n",
    "#                 distances[neighbor] = distance\n",
    "#                 heapq.heappush(pq, (distance, neighbor))\n",
    "\n",
    "#     return distances"
   ]
  },
  {
   "cell_type": "code",
   "execution_count": 101,
   "id": "776c2b33-220a-4704-b255-f3696cec425e",
   "metadata": {},
   "outputs": [],
   "source": [
    "# example = {\n",
    "#     'U': {'V': 2, 'W': 5, 'X': 1},\n",
    "#     'V': {'U': 2, 'X': 2, 'W': 3},\n",
    "#     'W': {'V': 3, 'U': 5, 'X': 3, 'Y': 1, 'Z': 5},\n",
    "#     'X': {'U': 1, 'V': 2, 'W': 3, 'Y': 1},\n",
    "#     'Y': {'X': 1, 'W': 1, 'Z': 1},\n",
    "#     'Z': {'W': 5, 'Y': 1},\n",
    "# }\n",
    "# print(calculate_distances(example, 'X'))"
   ]
  },
  {
   "cell_type": "code",
   "execution_count": 102,
   "id": "d48b4376-b5b2-4dff-a010-ca202e1f44c7",
   "metadata": {},
   "outputs": [],
   "source": [
    "# Unfortunately, I could not complete the Dijkstra's algorithm implementation. My intention was to use a similar version of that shown in [https://bradfieldcs.com/algos/graphs/dijkstras-algorithm/],\n",
    "# using a priority queue to add values to each node progressively until all nodes had been populated.\n",
    "# Therefore, I will be performing the statistical analysis simply on the heuristic algorithm that I developed earlier. "
   ]
  },
  {
   "cell_type": "code",
   "execution_count": 103,
   "id": "4cdfe363-6254-4641-ba8e-51171b89a67a",
   "metadata": {},
   "outputs": [],
   "source": [
    "## Size of the grid"
   ]
  },
  {
   "cell_type": "code",
   "execution_count": 104,
   "id": "b2455d2a-f466-4674-9c0d-c193205fd290",
   "metadata": {},
   "outputs": [],
   "source": [
    "def createGrid(grid_width, grid_height, min_val, max_val):\n",
    "    grid = np.random.randint(min_val,max_val, grid_width*grid_height) #Set each cell to a random value between min_val and max_val\n",
    "    grid = grid.reshape(grid_width, grid_height) #Re-order axes to make rows x columns\n",
    "    return grid"
   ]
  },
  {
   "cell_type": "code",
   "execution_count": 107,
   "id": "de0a1e88-c8f6-4a56-beee-6aa5fea8e90f",
   "metadata": {},
   "outputs": [],
   "source": [
    "## Distribution of values"
   ]
  },
  {
   "cell_type": "code",
   "execution_count": null,
   "id": "695a2fd1-c60b-4112-8c73-49642ea1181e",
   "metadata": {},
   "outputs": [],
   "source": []
  }
 ],
 "metadata": {
  "kernelspec": {
   "display_name": "Python 3",
   "language": "python",
   "name": "python3"
  },
  "language_info": {
   "codemirror_mode": {
    "name": "ipython",
    "version": 3
   },
   "file_extension": ".py",
   "mimetype": "text/x-python",
   "name": "python",
   "nbconvert_exporter": "python",
   "pygments_lexer": "ipython3",
   "version": "3.8.8"
  },
  "toc-autonumbering": false,
  "toc-showcode": false,
  "toc-showmarkdowntxt": false,
  "toc-showtags": false
 },
 "nbformat": 4,
 "nbformat_minor": 5
}
